{
  "cells": [
    {
      "cell_type": "markdown",
      "metadata": {
        "id": "9taAS6_3Vbbr"
      },
      "source": [
        "[![image](https://colab.research.google.com/assets/colab-badge.svg)](https://colab.research.google.com/github/giswqs/geog-312/blob/master/labs/lab_07.ipynb)\n",
        "[![image](https://binder.pangeo.io/badge_logo.svg)](https://gishub.org/geog312-pangeo)\n",
        "\n",
        "**Will Whitehead**"
      ]
    },
    {
      "cell_type": "code",
      "execution_count": null,
      "metadata": {
        "id": "-zwXs3HqVbbu"
      },
      "outputs": [],
      "source": [
        "from datetime import datetime\n",
        "\n",
        "now = datetime.now()\n",
        "print(f\"Submitted time: {now}\")"
      ]
    },
    {
      "cell_type": "markdown",
      "metadata": {
        "id": "vkITDgBsVbbw"
      },
      "source": [
        "## Question 1\n",
        "**Learning Python:** Open a blank file in your text editor and write a few lines summarizing what you’ve learned about Python so far. Start each line with the phrase *In Python you can. . ..* Save the file as *learning_python.txt* in the same directory as your exercises from this chapter. Write a program that reads the file and prints what you wrote three times. Print the contents once by reading in the entire file, once by looping over the file object, and once by storing the lines in a list and then working with them outside the *with* block."
      ]
    },
    {
      "cell_type": "code",
      "execution_count": 8,
      "metadata": {
        "colab": {
          "base_uri": "https://localhost:8080/"
        },
        "id": "Gc9FAcXTVbbx",
        "outputId": "c8da5e2e-db13-4f1a-e4d8-eb872984507e"
      },
      "outputs": [
        {
          "output_type": "stream",
          "name": "stdout",
          "text": [
            "In Python you can automate tasks and do analysis in a way that humans simply cannot. \n",
            "In Python, using dictionaries and classes an incredible amount of information can be stored and manipulated by custom functions.\n",
            "In Python, the most helpful uses are the in the links to programs like ArcGIS Pro, at least in my experience.\n",
            "In Python you can automate tasks and do analysis in a way that humans simply cannot. \n",
            "\n",
            "In Python, using dictionaries and classes an incredible amount of information can be stored and manipulated by custom functions.\n",
            "\n",
            "In Python, the most helpful uses are the in the links to programs like ArcGIS Pro, at least in my experience.\n",
            "In Python you can automate tasks and do analysis in a way that humans simply cannot.\n",
            "In Python, using dictionaries and classes an incredible amount of information can be stored and manipulated by custom functions.\n",
            "In Python, the most helpful uses are the in the links to programs like ArcGIS Pro, at least in my experience.\n"
          ]
        }
      ],
      "source": [
        "with open('/content/learning_python.txt') as file_object:\n",
        "    contents = file_object.read()\n",
        "print(contents)\n",
        "\n",
        "with open('/content/learning_python.txt') as file_object:\n",
        "    for line in file_object:\n",
        "      print(line)\n",
        "\n",
        "with open('/content/learning_python.txt') as file_object:\n",
        "    lines = file_object.readlines()\n",
        "\n",
        "    for line in lines:\n",
        "      print(line.rstrip())"
      ]
    },
    {
      "cell_type": "markdown",
      "metadata": {
        "id": "6idXhuggVbby"
      },
      "source": [
        "## Question 2\n",
        "**Learning C:** You can use the replace() method to replace any word in a string with a different word. Here’s a quick example showing how to replace 'dog' with 'cat' in a sentence:\n",
        "```\n",
        "message = \"I really like dogs.\"\n",
        "message.replace('dog', 'cat')\n",
        "'I really like cats.'\n",
        "```\n",
        "Read in each line from the file you just created, *learning_python.txt*, and replace the word *Python* with the name of another language, such as *C*. Print each modified line to the screen."
      ]
    },
    {
      "cell_type": "code",
      "execution_count": 16,
      "metadata": {
        "colab": {
          "base_uri": "https://localhost:8080/"
        },
        "id": "4mREyHIcVbby",
        "outputId": "dec043c0-39cf-44fc-b75d-399e53244af3"
      },
      "outputs": [
        {
          "output_type": "stream",
          "name": "stdout",
          "text": [
            "In Python you can automate tasks and do analysis in a way that humans simply cannot.\n",
            "In Python, using dictionaries and classes an incredible amount of information can be stored and manipulated by custom functions.\n",
            "In Python, the most helpful uses are the in the links to programs like ArcGIS Pro, at least in my experience.\n"
          ]
        }
      ],
      "source": [
        "#I cannot figure this out for the life of me\n",
        "\n",
        "with open('/content/learning_python.txt') as file_object:\n",
        "  lines = file_object.readlines()\n",
        "  for line in lines:\n",
        "      line.replace('Python','C')\n",
        "      print(line.rstrip())"
      ]
    },
    {
      "cell_type": "markdown",
      "metadata": {
        "id": "6cW3VCFdVbbz"
      },
      "source": [
        "## Question 3\n",
        "**Guest:** Write a program that prompts the user for their name. When they respond, write their name to a file called guest.txt."
      ]
    },
    {
      "cell_type": "code",
      "execution_count": null,
      "metadata": {
        "id": "V94tIXYLVbbz"
      },
      "outputs": [],
      "source": [
        "message = 'Hello, user, what is your name?'\n",
        "filename = '/contents/guest.txt'\n",
        "name = input(message)\n",
        "with open(filename, 'w') as file_object:\n",
        "    file_object.write(name)"
      ]
    },
    {
      "cell_type": "markdown",
      "metadata": {
        "id": "NM4F1_dNVbbz"
      },
      "source": [
        "## Question 4\n",
        "**Guest Book:** Write a while loop that prompts users for their name. When they enter their name, print a greeting to the screen and add a line recording their visit in a file called guest_book.txt. Make sure each entry appears on a new line in the file."
      ]
    },
    {
      "cell_type": "code",
      "execution_count": 20,
      "metadata": {
        "colab": {
          "base_uri": "https://localhost:8080/"
        },
        "id": "9Z5GAY9WVbb0",
        "outputId": "953aaa54-43cf-45f9-dcb0-81daf42b6be0"
      },
      "outputs": [
        {
          "name": "stdout",
          "output_type": "stream",
          "text": [
            "Hello, guest, what is your name? (write \"quit\" to end the program)Will\n",
            "Hello, guest, what is your name? (write \"quit\" to end the program)quit\n"
          ]
        }
      ],
      "source": [
        "message = 'Hello, guest, what is your name? (write \"quit\" to end the program)'\n",
        "filename = '/content/guest_book.txt'\n",
        "name = input(message)\n",
        "with open(filename, 'w') as file_object:\n",
        "    file_object.write(name)\n",
        "while name != 'quit':\n",
        "  name = input(message)\n",
        "  with open(filename, 'w') as file_object:\n",
        "    file_object.write(f'{name}/n')"
      ]
    },
    {
      "cell_type": "markdown",
      "metadata": {
        "id": "Q8lZ8wjxVbb0"
      },
      "source": [
        "## Question 5\n",
        "**Programming Poll:** Write a while loop that asks people why they like programming. Each time someone enters a reason, add their reason to a file that stores all the responses."
      ]
    },
    {
      "cell_type": "code",
      "execution_count": null,
      "metadata": {
        "id": "m3TVgiR4Vbb1"
      },
      "outputs": [],
      "source": [
        "message = 'Hello, why do you like programming? (write \"quit\" to end the program)'\n",
        "filename = '/content/programming_responses.txt'\n",
        "reason = input(message)\n",
        "with open(filename, 'w') as file_object:\n",
        "    file_object.write(name)\n",
        "while reason != 'quit':\n",
        "  reason = input(message)\n",
        "  with open(filename, 'w') as file_object:\n",
        "    file_object.write(f'{reason}/n')"
      ]
    },
    {
      "cell_type": "markdown",
      "metadata": {
        "id": "3vWe9YkaVbb1"
      },
      "source": [
        "## Question 6\n",
        "**Addition:** One common problem when prompting for numerical input occurs when people provide text instead of numbers. When you try to convert the input to an int, you’ll get a ValueError. Write a program that prompts for two numbers. Add them together and print the result. Catch the ValueError if either input value is not a number, and print a friendly error message. Test your program by entering two numbers and then by entering some text instead of a number."
      ]
    },
    {
      "cell_type": "code",
      "execution_count": null,
      "metadata": {
        "id": "oRcAlD4dVbb1"
      },
      "outputs": [],
      "source": [
        "print('Enter two numbers, and I will add them together. Enter \"q\" to quit.')\n",
        "\n",
        "while True:\n",
        "  message = 'Please enter the first number:'\n",
        "  number = input(message)\n",
        "  if number == 'q':\n",
        "    break\n",
        "  try:\n",
        "    number = int(number)\n",
        "  except ValueError:\n",
        "    print('One of the values was not a number.')\n",
        "  else:\n",
        "    message = 'Please enter the second number:'\n",
        "    number2 = input(message)\n",
        "    if number2 == 'q':\n",
        "      break\n",
        "    try:\n",
        "      number2 = int(number2)\n",
        "    except ValueError:\n",
        "      print('One of the values was not a number.')\n",
        "    else:\n",
        "      numbersum = number + number2\n",
        "      print(numbersum)"
      ]
    },
    {
      "cell_type": "markdown",
      "metadata": {
        "id": "mAExff2CVbb2"
      },
      "source": [
        "## Question 7\n",
        "**Addition Calculator:** Wrap your code from Question 6 in a while loop so the user can continue entering numbers even if they make a mistake and enter text instead of a number."
      ]
    },
    {
      "cell_type": "code",
      "execution_count": null,
      "metadata": {
        "id": "XIQb33WsVbb2"
      },
      "outputs": [],
      "source": [
        "#I accidentally already did this when I wrote it for 6\n",
        "print('Enter two numbers, and I will add them together. Enter \"q\" to quit.')\n",
        "\n",
        "while True:\n",
        "  message = 'Please enter the first number:'\n",
        "  number = input(message)\n",
        "  if number == 'q':\n",
        "    break\n",
        "  try:\n",
        "    number = int(number)\n",
        "  except ValueError:\n",
        "    print('One of the values was not a number.')\n",
        "  else:\n",
        "    message = 'Please enter the second number:'\n",
        "    number2 = input(message)\n",
        "    if number2 == 'q':\n",
        "      break\n",
        "    try:\n",
        "      number2 = int(number2)\n",
        "    except ValueError:\n",
        "      print('One of the values was not a number.')\n",
        "    else:\n",
        "      numbersum = number + number2\n",
        "      print(numbersum)\n"
      ]
    },
    {
      "cell_type": "markdown",
      "metadata": {
        "id": "ESb3NtqCVbb2"
      },
      "source": [
        "## Question 8\n",
        "**Cats and Dogs:** Make two files, *cats.txt* and *dogs.txt*. Store at least three names of cats in the first file and three names of dogs in the second file. Write a program that tries to read these files and print the contents of the file to the screen. Wrap your code in a `try-except` block to catch the `FileNotFound` error, and print a friendly message if a file is missing. Move one of the files to a different location on your system, and make sure the code in the `except` block executes properly."
      ]
    },
    {
      "cell_type": "code",
      "execution_count": 29,
      "metadata": {
        "colab": {
          "base_uri": "https://localhost:8080/"
        },
        "id": "V8VvYucFVbb2",
        "outputId": "4d16708a-8ca5-4314-fd7d-24b50c27c528"
      },
      "outputs": [
        {
          "output_type": "stream",
          "name": "stdout",
          "text": [
            "Mittens\n",
            "Garfield\n",
            "Socks\n",
            "Rover\n",
            "Buddy\n",
            "Spot\n"
          ]
        }
      ],
      "source": [
        "cat_file = '/content/cats.txt'\n",
        "dog_file = '/content/dogs.txt'\n",
        "try:\n",
        "  with open(cat_file) as file_object:\n",
        "    contents = file_object.read()\n",
        "except FileNotFoundError:\n",
        "  print(f'{cat_file} not found')\n",
        "else:\n",
        "  print(contents)\n",
        "try:\n",
        "  with open(dog_file) as file_object:\n",
        "    contents = file_object.read()\n",
        "except FileNotFoundError:\n",
        "  print(f'{dog_file} not found')\n",
        "else:\n",
        "  print(contents)\n",
        "\n"
      ]
    },
    {
      "cell_type": "markdown",
      "metadata": {
        "id": "xHgWMG3wVbb3"
      },
      "source": [
        "## Question 9\n",
        "**Silent Cats and Dogs:** Modify your except block in Question 8 to fail silently if either file is missing."
      ]
    },
    {
      "cell_type": "code",
      "execution_count": null,
      "metadata": {
        "id": "4_h-GxABVbb3"
      },
      "outputs": [],
      "source": [
        "cat_file = '/content/cats.txt'\n",
        "dog_file = '/content/dogs.txt'\n",
        "try:\n",
        "  with open(cat_file) as file_object:\n",
        "    contents = file_object.read()\n",
        "except FileNotFoundError:\n",
        "  pass\n",
        "else:\n",
        "  print(contents)\n",
        "try:\n",
        "  with open(dog_file) as file_object:\n",
        "    contents = file_object.read()\n",
        "except FileNotFoundError:\n",
        "  pass\n",
        "else:\n",
        "  print(contents)\n"
      ]
    },
    {
      "cell_type": "markdown",
      "metadata": {
        "id": "Vcpe4B1WVbb3"
      },
      "source": [
        "## Question 10\n",
        "**Common Words:** Visit Project Gutenberg (https://gutenberg.org/) and find a few texts you’d like to analyze. Download the text files for these works, or copy the raw text from your browser into a text file on your computer. You can use the `count()` method to find out how many times a word or phrase appears in a string. For example, the following code counts the number of times 'row' appears in a string:"
      ]
    },
    {
      "cell_type": "code",
      "execution_count": null,
      "metadata": {
        "id": "D2s7H6meVbb4",
        "outputId": "a40fcc15-7791-4ad9-acdd-331e7f0d9b04"
      },
      "outputs": [
        {
          "data": {
            "text/plain": [
              "2"
            ]
          },
          "execution_count": 1,
          "metadata": {},
          "output_type": "execute_result"
        }
      ],
      "source": [
        "line = \"Row, row, row your boat\"\n",
        "line.count('row')"
      ]
    },
    {
      "cell_type": "code",
      "execution_count": null,
      "metadata": {
        "id": "Ady1iXuZVbb5",
        "outputId": "dea6a961-ab16-4806-efb0-d444377c7c89"
      },
      "outputs": [
        {
          "data": {
            "text/plain": [
              "3"
            ]
          },
          "execution_count": 2,
          "metadata": {},
          "output_type": "execute_result"
        }
      ],
      "source": [
        "line.lower().count('row')"
      ]
    },
    {
      "cell_type": "markdown",
      "metadata": {
        "id": "ohDiA4F5Vbb6"
      },
      "source": [
        "Notice that converting the string to lowercase using lower() catches all appearances of the word you’re looking for, regardless of how it’s formatted.\n",
        "\n",
        "Write a program that reads the files you found at Project Gutenberg and determines how many times the word `the` appears in each text. This will be an approximation because it will also count words such as `then` and `there`. Try counting `the`, with a space in the string, and see how much lower your count is."
      ]
    },
    {
      "cell_type": "code",
      "execution_count": 31,
      "metadata": {
        "colab": {
          "base_uri": "https://localhost:8080/"
        },
        "id": "gCXcWK2pVbb6",
        "outputId": "a8c27411-18c6-48ef-b7ea-3f3d12094cc8"
      },
      "outputs": [
        {
          "output_type": "stream",
          "name": "stdout",
          "text": [
            "The file /content/Christmas Carol.txt contains the word \"Christmas\" 95 times.\n"
          ]
        }
      ],
      "source": [
        "filename = '/content/Christmas Carol.txt'\n",
        "\n",
        "try:\n",
        "    with open(filename, encoding='utf-8') as f:\n",
        "        contents = f.read()\n",
        "except FileNotFoundError:\n",
        "    print(f\"Sorry, the file {filename} does not exist.\")\n",
        "else:\n",
        "    # Count the approximate number of words in the file.\n",
        "    words = contents.lower().split('christmas')\n",
        "    num_words = len(words)\n",
        "    print(f'The file {filename} contains the word \"Christmas\" {num_words} times.')"
      ]
    },
    {
      "cell_type": "markdown",
      "metadata": {
        "id": "Qd-UV0viVbb6"
      },
      "source": [
        "## Question 11\n",
        "**Favorite Number:** Write a program that prompts for the user’s favorite number. Use `json.dump()` to store this number in a file. Write a separate program that reads in this value and prints the message, `I know your favorite number! It’s _____.`"
      ]
    },
    {
      "cell_type": "code",
      "execution_count": 34,
      "metadata": {
        "colab": {
          "base_uri": "https://localhost:8080/"
        },
        "id": "5oMMWPmnVbb6",
        "outputId": "a269b7b3-b03a-413b-ae83-3446c450ee92"
      },
      "outputs": [
        {
          "name": "stdout",
          "output_type": "stream",
          "text": [
            "Please enter your favorite number!8\n"
          ]
        }
      ],
      "source": [
        "import json\n",
        "\n",
        "message = ('Please enter your favorite number!')\n",
        "number = input(message)\n",
        "\n",
        "filename = '/content/numbers.json'\n",
        "with open(filename, 'w') as f:\n",
        "    json.dump(number, f)\n",
        "\n"
      ]
    },
    {
      "cell_type": "code",
      "source": [
        "import json\n",
        "\n",
        "filename = '/content/numbers.json'\n",
        "with open(filename) as f:\n",
        "    number = json.load(f)\n",
        "\n",
        "print(f\"I know your favorite number! It's {number}.\")"
      ],
      "metadata": {
        "colab": {
          "base_uri": "https://localhost:8080/"
        },
        "id": "yKO4oX9Np1jz",
        "outputId": "6d7d3bc7-aa1c-49f1-def4-6a7540663eea"
      },
      "execution_count": 35,
      "outputs": [
        {
          "output_type": "stream",
          "name": "stdout",
          "text": [
            "I know your favorite number! It's 8.\n"
          ]
        }
      ]
    },
    {
      "cell_type": "markdown",
      "metadata": {
        "id": "rER8sfyxVbb7"
      },
      "source": [
        "## Question 12\n",
        "**Favorite Number Remembered:** Combine the two programs from Question 10 into one file. If the number is already stored, report the favorite number to the user. If not, prompt for the user’s favorite number and store it in a file. Run the program twice to see that it works."
      ]
    },
    {
      "cell_type": "code",
      "execution_count": null,
      "metadata": {
        "id": "v4GBadFiVbb7"
      },
      "outputs": [],
      "source": [
        "import json\n",
        "filename = '/content/numbers.json'\n",
        "with open(filename) as f:\n",
        "    number = json.load(f)\n",
        "\n",
        "if number != '':\n",
        "  print(f\"I know your favorite number! It's {number}.\")\n",
        "\n",
        "else:\n",
        "  message = ('Please enter your favorite number!')\n",
        "  number = input(message)\n",
        "\n",
        "  filename = '/content/numbers.json'\n",
        "  with open(filename, 'w') as f:\n",
        "    json.dump(number, f)\n"
      ]
    }
  ],
  "metadata": {
    "kernelspec": {
      "display_name": "Python 3",
      "language": "python",
      "name": "python3"
    },
    "language_info": {
      "codemirror_mode": {
        "name": "ipython",
        "version": 3
      },
      "file_extension": ".py",
      "mimetype": "text/x-python",
      "name": "python",
      "nbconvert_exporter": "python",
      "pygments_lexer": "ipython3",
      "version": "3.8.5"
    },
    "colab": {
      "provenance": []
    }
  },
  "nbformat": 4,
  "nbformat_minor": 0
}